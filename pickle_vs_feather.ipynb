{
 "cells": [
  {
   "cell_type": "markdown",
   "metadata": {},
   "source": [
    "### Test fast ways to save/load pandas DataFrame \n",
    "#### Result: pickle and feather are ~40 times faster than CSV\n",
    "I prefer pickle, because it allows me to save a \"bag\" object (basically a dictionary) containing several DataFrames and parameters, which can be arranged as trees.\n",
    "<br>--------------------\n",
    "<br>Follow the link to see excellent analysis by Ilia Zaitsev, where he compares more formats (CSV, Pickle, MessagePack, HDF5, Feather, Parquet):\n",
    " - <a href=\"https://towardsdatascience.com/the-best-format-to-save-pandas-data-414dca023e0d\" target=\"_blank\">https://towardsdatascience.com/the-best-format-to-save-pandas-data-414dca023e0d</a>"
   ]
  },
  {
   "cell_type": "code",
   "execution_count": 36,
   "metadata": {},
   "outputs": [],
   "source": [
    "import os, sys, pickle, json,time\n",
    "# conda install feather-format -c conda-forge\n",
    "import pandas as pd\n",
    "nb_time_start = time.time()"
   ]
  },
  {
   "cell_type": "code",
   "execution_count": 37,
   "metadata": {},
   "outputs": [],
   "source": [
    "# procedure to create a Pandas DataFrame\n",
    "def ddd(nrows=10):\n",
    "    \"\"\"\n",
    "    # returns a simple pandas DataFrame - useful for quick tests\n",
    "    # nrows is number of rows (divisible by 10), for example:\n",
    "    #     df = ddd()\n",
    "    #     df = ddd(100)\n",
    "    #     df = ddd(10**6)   # million rows\n",
    "    \"\"\"\n",
    "    n_aa = 10\n",
    "    nn = int(nrows/n_aa)\n",
    "    if nn < 1:\n",
    "        nn = 1\n",
    "    aa = pd.DataFrame({\n",
    "          'ii':nn*[0,1,2,3,4,5,np.nan,7,8,9],\n",
    "          'i1':nn*[6,5,4,3,2,1,0,-1,-2,-3],\n",
    "          'i2':nn*[6,5,4,4,1,1,0,-1,-2,-3],\n",
    "          'ff':nn*[0.0,1.0,2.0,np.NaN,4.0,5.0,6.0,7.0,8.0,9.0],\n",
    "          'f1':nn*[0.0,1.01,2.002,3.0003,4.00004,5.000005,6.0000006,7.0,8.0,9.0],\n",
    "          'f2':nn*[1.11,2.22,3.33,4.44,5.55,7.77,9.99,0.01,-0.01,-1.11],\n",
    "          'ss':nn*['s0','s1','狗','汽车',np.nan,'s5','s6','s7','s8','s9'],\n",
    "          's1':nn*list(np.array(['s0','s1','s2','s2',np.nan,'s5','s6','s7','s8','s9'],dtype=np.str)),\n",
    "          's2':nn*['1.11','2.22','3.33','4.44','5.55','7.77','9.99','0.01','-0.01','-1.11'],\n",
    "          'bb':nn*[True, False, True, False, np.nan, False, True,np.nan, False, True],\n",
    "          'b1':nn*[True, False, True, False, True, False, True, True, False, True],\n",
    "          'xx':nn*list(range(n_aa)),\n",
    "          'yy':nn*[x*50 + 60 + np.random.randn() for x in range(n_aa)]\n",
    "    })\n",
    "    aa = aa[['ii','i1','i2','ff','f1','f2','ss','s1','s2','bb','b1','xx','yy']].copy()\n",
    "    aa.index = range(len(aa))\n",
    "\n",
    "    return aa"
   ]
  },
  {
   "cell_type": "code",
   "execution_count": 38,
   "metadata": {},
   "outputs": [],
   "source": [
    "# create DF with 1 Mln rows\n",
    "df=ddd(10**6)"
   ]
  },
  {
   "cell_type": "code",
   "execution_count": 39,
   "metadata": {},
   "outputs": [
    {
     "name": "stdout",
     "output_type": "stream",
     "text": [
      "9.66 s ± 0 ns per loop (mean ± std. dev. of 1 run, 1 loop each)\n",
      "1.25 s ± 0 ns per loop (mean ± std. dev. of 1 run, 1 loop each)\n",
      "CPU times: user 11.2 s, sys: 280 ms, total: 11.4 s\n",
      "Wall time: 10.9 s\n"
     ]
    }
   ],
   "source": [
    "%%time\n",
    "fname_csv = \"/tmp/ff.csv\"\n",
    "%timeit -n 1 -r 1 df.to_csv(fname_csv)            # 10 sec\n",
    "%timeit -n 1 -r 1 bb = pd.read_csv(fname_csv)       # 1.2 sec"
   ]
  },
  {
   "cell_type": "code",
   "execution_count": 40,
   "metadata": {},
   "outputs": [
    {
     "name": "stdout",
     "output_type": "stream",
     "text": [
      "237 ms ± 24.8 ms per loop (mean ± std. dev. of 5 runs, 1 loop each)\n",
      "79.4 ms ± 1.08 ms per loop (mean ± std. dev. of 5 runs, 1 loop each)\n",
      "CPU times: user 1.73 s, sys: 375 ms, total: 2.1 s\n",
      "Wall time: 1.63 s\n"
     ]
    }
   ],
   "source": [
    "%%time\n",
    "fname_fe = \"/tmp/ff.feather\"\n",
    "%timeit -n 1 -r 5 df.to_feather(fname_fe)    #  0.3 sec\n",
    "%timeit -n 1 -r 5 bb=pd.read_feather(fname_fe) # 0.1 sec"
   ]
  },
  {
   "cell_type": "code",
   "execution_count": 41,
   "metadata": {},
   "outputs": [
    {
     "name": "stdout",
     "output_type": "stream",
     "text": [
      "235 ms ± 33 ms per loop (mean ± std. dev. of 5 runs, 1 loop each)\n",
      "129 ms ± 10.7 ms per loop (mean ± std. dev. of 5 runs, 1 loop each)\n",
      "CPU times: user 1.02 s, sys: 415 ms, total: 1.44 s\n",
      "Wall time: 1.88 s\n"
     ]
    }
   ],
   "source": [
    "%%time\n",
    "fname_pk = \"/tmp/ff.pk\"\n",
    "%timeit -n 1 -r 5 pickle.dump(df, open(fname_pk, \"wb\")) # 0.21 sec\n",
    "%timeit -n 1 -r 5 bb = pickle.load(open(fname_pk, \"rb\")) # 0.16 sec"
   ]
  },
  {
   "cell_type": "code",
   "execution_count": 42,
   "metadata": {},
   "outputs": [
    {
     "name": "stdout",
     "output_type": "stream",
     "text": [
      "writing dict to pickle file\n",
      "reading back from file\n",
      "showing what we have read from file:\n",
      "{\n",
      "    \"level1_k1\": \"v1\",\n",
      "    \"level1_k2\": {\n",
      "        \"level2_k1\": \"vv1\",\n",
      "        \"level2_k2\": {\n",
      "            \"level3_k1\": \"vvv1\",\n",
      "            \"level3_k2\": {\n",
      "                \"level4_k1\": \"vvvv1\",\n",
      "                \"level4_k2\": [\n",
      "                    1,\n",
      "                    2,\n",
      "                    3,\n",
      "                    4,\n",
      "                    5\n",
      "                ]\n",
      "            }\n",
      "        }\n",
      "    }\n",
      "}\n"
     ]
    }
   ],
   "source": [
    "# demo that pickle saves deep nested \"trees\":\n",
    "\n",
    "mydict = {\n",
    "    \"level1_k1\" : \"v1\",\n",
    "    \"level1_k2\" : {\n",
    "        \"level2_k1\" : \"vv1\",\n",
    "        \"level2_k2\" : {\n",
    "            \"level3_k1\" : \"vvv1\",\n",
    "            \"level3_k2\" : {\n",
    "                \"level4_k1\" : \"vvvv1\",\n",
    "                \"level4_k2\" : [1,2,3,4,5]\n",
    "                \n",
    "            }\n",
    "        }\n",
    "    }\n",
    "}\n",
    "\n",
    "print(\"writing dict to pickle file\")\n",
    "fname_pk = \"/tmp/ff.pk\"\n",
    "pickle.dump(mydict, open(fname_pk, \"wb\"))\n",
    "\n",
    "print(\"reading back from file\")\n",
    "dict_from_file = pickle.load(open(fname_pk, \"rb\"))\n",
    "\n",
    "print(\"showing what we have read from file:\")\n",
    "json_str = json.dumps(dict_from_file,indent=4)\n",
    "print(json_str)"
   ]
  },
  {
   "cell_type": "code",
   "execution_count": 43,
   "metadata": {},
   "outputs": [
    {
     "name": "stdout",
     "output_type": "stream",
     "text": [
      "Total notebook run time = 15.83 sec\n"
     ]
    }
   ],
   "source": [
    "nb_time_end = time.time()\n",
    "total_seconds = nb_time_end - nb_time_start\n",
    "print(f\"Total notebook run time = {total_seconds:.2f} sec\")"
   ]
  },
  {
   "cell_type": "code",
   "execution_count": null,
   "metadata": {},
   "outputs": [],
   "source": []
  }
 ],
 "metadata": {
  "kernelspec": {
   "display_name": "Python 3",
   "language": "python",
   "name": "python3"
  },
  "language_info": {
   "codemirror_mode": {
    "name": "ipython",
    "version": 3
   },
   "file_extension": ".py",
   "mimetype": "text/x-python",
   "name": "python",
   "nbconvert_exporter": "python",
   "pygments_lexer": "ipython3",
   "version": "3.7.3"
  }
 },
 "nbformat": 4,
 "nbformat_minor": 4
}
