{
  "cells": [
    {
      "cell_type": "markdown",
      "source": [
        "## Working with SQL databases from python"
      ],
      "metadata": {}
    },
    {
      "cell_type": "code",
      "source": [
        "# template for querying Oracle\n",
        "\n",
        "import pandas as pd\n",
        "import cx_Oracle\n",
        "\n",
        "dsn_tns = cx_Oracle.makedsn(ip, port, SID)\n",
        "connection = cx_Oracle.connect(user, passwd, dsn_tns)\n",
        "\n",
        "sql = \"\"\" select ... from ... where ... \"\"\"\n",
        "df = pd.read_sql(sql, con=connection)\n",
        "df.to_csv(fname, header=True, index=False)"
      ],
      "outputs": [],
      "execution_count": null,
      "metadata": {}
    },
    {
      "cell_type": "code",
      "source": [
        "# or you can switch to pickle files - it is much faster:\n",
        "\n",
        "import pickle\n",
        "fname = \"junk.pk\"\n",
        "with open(fname, 'wb') as fh:\n",
        "    pickle.dump(df, fh, protocol=pickle.HIGHEST_PROTOCOL)\n",
        "\n",
        "# and to read pickle file back:\n",
        "with open(fname, 'rb') as fh:\n",
        "    df2 = pickle.load(fh)\n",
        "\n",
        "# Look here:\n",
        "#  - https://community.oracle.com/thread/4212183\n",
        "#  - https://stackoverflow.com/questions/35781580/cx-oracle-import-data-from-oracle-to-pandas-dataframe\n",
        "#  - https://pandas.pydata.org/pandas-docs/stable/reference/api/pandas.read_sql.html"
      ],
      "outputs": [],
      "execution_count": null,
      "metadata": {}
    },
    {
      "cell_type": "code",
      "source": [],
      "outputs": [],
      "execution_count": null,
      "metadata": {}
    }
  ],
  "metadata": {
    "kernelspec": {
      "name": "python3",
      "language": "python",
      "display_name": "Python 3"
    },
    "language_info": {
      "name": "python",
      "version": "3.7.3",
      "mimetype": "text/x-python",
      "codemirror_mode": {
        "name": "ipython",
        "version": 3
      },
      "pygments_lexer": "ipython3",
      "nbconvert_exporter": "python",
      "file_extension": ".py"
    },
    "kernel_info": {
      "name": "python3"
    },
    "nteract": {
      "version": "0.15.0"
    }
  },
  "nbformat": 4,
  "nbformat_minor": 4
}